{
 "cells": [
  {
   "cell_type": "markdown",
   "id": "53c76823",
   "metadata": {
    "deletable": false,
    "editable": false,
    "id": "c81daeeb"
   },
   "source": [
    "# Исследование надежности заемщиков"
   ]
  },
  {
   "cell_type": "markdown",
   "id": "e6966b8b",
   "metadata": {
    "deletable": false,
    "editable": false,
    "id": "-G3EJWzf62s6"
   },
   "source": [
    "Это первая часть проекта, она будет проверена автоматически. Вторую часть проверит ревьюер. "
   ]
  },
  {
   "cell_type": "markdown",
   "id": "382d2331",
   "metadata": {
    "deletable": false,
    "editable": false,
    "id": "744d7639"
   },
   "source": [
    "## Откройте таблицу и изучите общую информацию о данных"
   ]
  },
  {
   "cell_type": "markdown",
   "id": "7db3c075",
   "metadata": {
    "deletable": false,
    "editable": false,
    "id": "e7a14c31",
    "tags": [
     "start_task"
    ]
   },
   "source": [
    "**Задание 1. Импортируйте библиотеку pandas. Считайте данные из csv-файла в датафрейм и сохраните в переменную `data`. Путь к файлу:**\n",
    "\n",
    "`/datasets/data.csv`"
   ]
  },
  {
   "cell_type": "code",
   "execution_count": 3,
   "id": "a0c2f76a",
   "metadata": {
    "id": "7bcf75c9"
   },
   "outputs": [],
   "source": [
    "import pandas as pd"
   ]
  },
  {
   "cell_type": "code",
   "execution_count": 4,
   "id": "5b854f16",
   "metadata": {
    "id": "4d240ee2"
   },
   "outputs": [],
   "source": [
    "data = pd.read_csv('/datasets/data.csv')"
   ]
  },
  {
   "cell_type": "markdown",
   "id": "a937ea98",
   "metadata": {
    "deletable": false,
    "editable": false,
    "id": "b8038fe3",
    "tags": [
     "start_task"
    ]
   },
   "source": [
    "**Задание 2. Выведите первые 20 строчек датафрейма `data` на экран.**"
   ]
  },
  {
   "cell_type": "code",
   "execution_count": 40,
   "id": "28f96932",
   "metadata": {
    "id": "2a7cab99"
   },
   "outputs": [
    {
     "data": {
      "text/html": [
       "<div>\n",
       "<style scoped>\n",
       "    .dataframe tbody tr th:only-of-type {\n",
       "        vertical-align: middle;\n",
       "    }\n",
       "\n",
       "    .dataframe tbody tr th {\n",
       "        vertical-align: top;\n",
       "    }\n",
       "\n",
       "    .dataframe thead th {\n",
       "        text-align: right;\n",
       "    }\n",
       "</style>\n",
       "<table border=\"1\" class=\"dataframe\">\n",
       "  <thead>\n",
       "    <tr style=\"text-align: right;\">\n",
       "      <th></th>\n",
       "      <th>children</th>\n",
       "      <th>days_employed</th>\n",
       "      <th>dob_years</th>\n",
       "      <th>education</th>\n",
       "      <th>education_id</th>\n",
       "      <th>family_status</th>\n",
       "      <th>family_status_id</th>\n",
       "      <th>gender</th>\n",
       "      <th>income_type</th>\n",
       "      <th>debt</th>\n",
       "      <th>total_income</th>\n",
       "      <th>purpose</th>\n",
       "    </tr>\n",
       "  </thead>\n",
       "  <tbody>\n",
       "    <tr>\n",
       "      <th>0</th>\n",
       "      <td>1</td>\n",
       "      <td>-8437.673028</td>\n",
       "      <td>42</td>\n",
       "      <td>высшее</td>\n",
       "      <td>0</td>\n",
       "      <td>женат / замужем</td>\n",
       "      <td>0</td>\n",
       "      <td>F</td>\n",
       "      <td>сотрудник</td>\n",
       "      <td>0</td>\n",
       "      <td>253875.639453</td>\n",
       "      <td>покупка жилья</td>\n",
       "    </tr>\n",
       "    <tr>\n",
       "      <th>1</th>\n",
       "      <td>1</td>\n",
       "      <td>-4024.803754</td>\n",
       "      <td>36</td>\n",
       "      <td>среднее</td>\n",
       "      <td>1</td>\n",
       "      <td>женат / замужем</td>\n",
       "      <td>0</td>\n",
       "      <td>F</td>\n",
       "      <td>сотрудник</td>\n",
       "      <td>0</td>\n",
       "      <td>112080.014102</td>\n",
       "      <td>приобретение автомобиля</td>\n",
       "    </tr>\n",
       "    <tr>\n",
       "      <th>2</th>\n",
       "      <td>0</td>\n",
       "      <td>-5623.422610</td>\n",
       "      <td>33</td>\n",
       "      <td>Среднее</td>\n",
       "      <td>1</td>\n",
       "      <td>женат / замужем</td>\n",
       "      <td>0</td>\n",
       "      <td>M</td>\n",
       "      <td>сотрудник</td>\n",
       "      <td>0</td>\n",
       "      <td>145885.952297</td>\n",
       "      <td>покупка жилья</td>\n",
       "    </tr>\n",
       "    <tr>\n",
       "      <th>3</th>\n",
       "      <td>3</td>\n",
       "      <td>-4124.747207</td>\n",
       "      <td>32</td>\n",
       "      <td>среднее</td>\n",
       "      <td>1</td>\n",
       "      <td>женат / замужем</td>\n",
       "      <td>0</td>\n",
       "      <td>M</td>\n",
       "      <td>сотрудник</td>\n",
       "      <td>0</td>\n",
       "      <td>267628.550329</td>\n",
       "      <td>дополнительное образование</td>\n",
       "    </tr>\n",
       "    <tr>\n",
       "      <th>4</th>\n",
       "      <td>0</td>\n",
       "      <td>340266.072047</td>\n",
       "      <td>53</td>\n",
       "      <td>среднее</td>\n",
       "      <td>1</td>\n",
       "      <td>гражданский брак</td>\n",
       "      <td>1</td>\n",
       "      <td>F</td>\n",
       "      <td>пенсионер</td>\n",
       "      <td>0</td>\n",
       "      <td>158616.077870</td>\n",
       "      <td>сыграть свадьбу</td>\n",
       "    </tr>\n",
       "    <tr>\n",
       "      <th>5</th>\n",
       "      <td>0</td>\n",
       "      <td>-926.185831</td>\n",
       "      <td>27</td>\n",
       "      <td>высшее</td>\n",
       "      <td>0</td>\n",
       "      <td>гражданский брак</td>\n",
       "      <td>1</td>\n",
       "      <td>M</td>\n",
       "      <td>компаньон</td>\n",
       "      <td>0</td>\n",
       "      <td>255763.565419</td>\n",
       "      <td>покупка жилья</td>\n",
       "    </tr>\n",
       "    <tr>\n",
       "      <th>6</th>\n",
       "      <td>0</td>\n",
       "      <td>-2879.202052</td>\n",
       "      <td>43</td>\n",
       "      <td>высшее</td>\n",
       "      <td>0</td>\n",
       "      <td>женат / замужем</td>\n",
       "      <td>0</td>\n",
       "      <td>F</td>\n",
       "      <td>компаньон</td>\n",
       "      <td>0</td>\n",
       "      <td>240525.971920</td>\n",
       "      <td>операции с жильем</td>\n",
       "    </tr>\n",
       "    <tr>\n",
       "      <th>7</th>\n",
       "      <td>0</td>\n",
       "      <td>-152.779569</td>\n",
       "      <td>50</td>\n",
       "      <td>СРЕДНЕЕ</td>\n",
       "      <td>1</td>\n",
       "      <td>женат / замужем</td>\n",
       "      <td>0</td>\n",
       "      <td>M</td>\n",
       "      <td>сотрудник</td>\n",
       "      <td>0</td>\n",
       "      <td>135823.934197</td>\n",
       "      <td>образование</td>\n",
       "    </tr>\n",
       "    <tr>\n",
       "      <th>8</th>\n",
       "      <td>2</td>\n",
       "      <td>-6929.865299</td>\n",
       "      <td>35</td>\n",
       "      <td>ВЫСШЕЕ</td>\n",
       "      <td>0</td>\n",
       "      <td>гражданский брак</td>\n",
       "      <td>1</td>\n",
       "      <td>F</td>\n",
       "      <td>сотрудник</td>\n",
       "      <td>0</td>\n",
       "      <td>95856.832424</td>\n",
       "      <td>на проведение свадьбы</td>\n",
       "    </tr>\n",
       "    <tr>\n",
       "      <th>9</th>\n",
       "      <td>0</td>\n",
       "      <td>-2188.756445</td>\n",
       "      <td>41</td>\n",
       "      <td>среднее</td>\n",
       "      <td>1</td>\n",
       "      <td>женат / замужем</td>\n",
       "      <td>0</td>\n",
       "      <td>M</td>\n",
       "      <td>сотрудник</td>\n",
       "      <td>0</td>\n",
       "      <td>144425.938277</td>\n",
       "      <td>покупка жилья для семьи</td>\n",
       "    </tr>\n",
       "    <tr>\n",
       "      <th>10</th>\n",
       "      <td>2</td>\n",
       "      <td>-4171.483647</td>\n",
       "      <td>36</td>\n",
       "      <td>высшее</td>\n",
       "      <td>0</td>\n",
       "      <td>женат / замужем</td>\n",
       "      <td>0</td>\n",
       "      <td>M</td>\n",
       "      <td>компаньон</td>\n",
       "      <td>0</td>\n",
       "      <td>113943.491460</td>\n",
       "      <td>покупка недвижимости</td>\n",
       "    </tr>\n",
       "    <tr>\n",
       "      <th>11</th>\n",
       "      <td>0</td>\n",
       "      <td>-792.701887</td>\n",
       "      <td>40</td>\n",
       "      <td>среднее</td>\n",
       "      <td>1</td>\n",
       "      <td>женат / замужем</td>\n",
       "      <td>0</td>\n",
       "      <td>F</td>\n",
       "      <td>сотрудник</td>\n",
       "      <td>0</td>\n",
       "      <td>77069.234271</td>\n",
       "      <td>покупка коммерческой недвижимости</td>\n",
       "    </tr>\n",
       "    <tr>\n",
       "      <th>12</th>\n",
       "      <td>0</td>\n",
       "      <td>366413.652744</td>\n",
       "      <td>65</td>\n",
       "      <td>среднее</td>\n",
       "      <td>1</td>\n",
       "      <td>гражданский брак</td>\n",
       "      <td>1</td>\n",
       "      <td>M</td>\n",
       "      <td>пенсионер</td>\n",
       "      <td>0</td>\n",
       "      <td>145017.937533</td>\n",
       "      <td>сыграть свадьбу</td>\n",
       "    </tr>\n",
       "    <tr>\n",
       "      <th>13</th>\n",
       "      <td>0</td>\n",
       "      <td>-1846.641941</td>\n",
       "      <td>54</td>\n",
       "      <td>неоконченное высшее</td>\n",
       "      <td>2</td>\n",
       "      <td>женат / замужем</td>\n",
       "      <td>0</td>\n",
       "      <td>F</td>\n",
       "      <td>сотрудник</td>\n",
       "      <td>0</td>\n",
       "      <td>130458.228857</td>\n",
       "      <td>приобретение автомобиля</td>\n",
       "    </tr>\n",
       "    <tr>\n",
       "      <th>14</th>\n",
       "      <td>0</td>\n",
       "      <td>-1844.956182</td>\n",
       "      <td>56</td>\n",
       "      <td>высшее</td>\n",
       "      <td>0</td>\n",
       "      <td>гражданский брак</td>\n",
       "      <td>1</td>\n",
       "      <td>F</td>\n",
       "      <td>компаньон</td>\n",
       "      <td>1</td>\n",
       "      <td>165127.911772</td>\n",
       "      <td>покупка жилой недвижимости</td>\n",
       "    </tr>\n",
       "    <tr>\n",
       "      <th>15</th>\n",
       "      <td>1</td>\n",
       "      <td>-972.364419</td>\n",
       "      <td>26</td>\n",
       "      <td>среднее</td>\n",
       "      <td>1</td>\n",
       "      <td>женат / замужем</td>\n",
       "      <td>0</td>\n",
       "      <td>F</td>\n",
       "      <td>сотрудник</td>\n",
       "      <td>0</td>\n",
       "      <td>116820.904450</td>\n",
       "      <td>строительство собственной недвижимости</td>\n",
       "    </tr>\n",
       "    <tr>\n",
       "      <th>16</th>\n",
       "      <td>0</td>\n",
       "      <td>-1719.934226</td>\n",
       "      <td>35</td>\n",
       "      <td>среднее</td>\n",
       "      <td>1</td>\n",
       "      <td>женат / замужем</td>\n",
       "      <td>0</td>\n",
       "      <td>F</td>\n",
       "      <td>сотрудник</td>\n",
       "      <td>0</td>\n",
       "      <td>289202.704229</td>\n",
       "      <td>недвижимость</td>\n",
       "    </tr>\n",
       "    <tr>\n",
       "      <th>17</th>\n",
       "      <td>0</td>\n",
       "      <td>-2369.999720</td>\n",
       "      <td>33</td>\n",
       "      <td>высшее</td>\n",
       "      <td>0</td>\n",
       "      <td>гражданский брак</td>\n",
       "      <td>1</td>\n",
       "      <td>M</td>\n",
       "      <td>сотрудник</td>\n",
       "      <td>0</td>\n",
       "      <td>90410.586745</td>\n",
       "      <td>строительство недвижимости</td>\n",
       "    </tr>\n",
       "    <tr>\n",
       "      <th>18</th>\n",
       "      <td>0</td>\n",
       "      <td>400281.136913</td>\n",
       "      <td>53</td>\n",
       "      <td>среднее</td>\n",
       "      <td>1</td>\n",
       "      <td>вдовец / вдова</td>\n",
       "      <td>2</td>\n",
       "      <td>F</td>\n",
       "      <td>пенсионер</td>\n",
       "      <td>0</td>\n",
       "      <td>56823.777243</td>\n",
       "      <td>на покупку подержанного автомобиля</td>\n",
       "    </tr>\n",
       "    <tr>\n",
       "      <th>19</th>\n",
       "      <td>0</td>\n",
       "      <td>-10038.818549</td>\n",
       "      <td>48</td>\n",
       "      <td>СРЕДНЕЕ</td>\n",
       "      <td>1</td>\n",
       "      <td>в разводе</td>\n",
       "      <td>3</td>\n",
       "      <td>F</td>\n",
       "      <td>сотрудник</td>\n",
       "      <td>0</td>\n",
       "      <td>242831.107982</td>\n",
       "      <td>на покупку своего автомобиля</td>\n",
       "    </tr>\n",
       "  </tbody>\n",
       "</table>\n",
       "</div>"
      ],
      "text/plain": [
       "    children  days_employed  dob_years            education  education_id  \\\n",
       "0          1   -8437.673028         42               высшее             0   \n",
       "1          1   -4024.803754         36              среднее             1   \n",
       "2          0   -5623.422610         33              Среднее             1   \n",
       "3          3   -4124.747207         32              среднее             1   \n",
       "4          0  340266.072047         53              среднее             1   \n",
       "5          0    -926.185831         27               высшее             0   \n",
       "6          0   -2879.202052         43               высшее             0   \n",
       "7          0    -152.779569         50              СРЕДНЕЕ             1   \n",
       "8          2   -6929.865299         35               ВЫСШЕЕ             0   \n",
       "9          0   -2188.756445         41              среднее             1   \n",
       "10         2   -4171.483647         36               высшее             0   \n",
       "11         0    -792.701887         40              среднее             1   \n",
       "12         0  366413.652744         65              среднее             1   \n",
       "13         0   -1846.641941         54  неоконченное высшее             2   \n",
       "14         0   -1844.956182         56               высшее             0   \n",
       "15         1    -972.364419         26              среднее             1   \n",
       "16         0   -1719.934226         35              среднее             1   \n",
       "17         0   -2369.999720         33               высшее             0   \n",
       "18         0  400281.136913         53              среднее             1   \n",
       "19         0  -10038.818549         48              СРЕДНЕЕ             1   \n",
       "\n",
       "       family_status  family_status_id gender income_type  debt  \\\n",
       "0    женат / замужем                 0      F   сотрудник     0   \n",
       "1    женат / замужем                 0      F   сотрудник     0   \n",
       "2    женат / замужем                 0      M   сотрудник     0   \n",
       "3    женат / замужем                 0      M   сотрудник     0   \n",
       "4   гражданский брак                 1      F   пенсионер     0   \n",
       "5   гражданский брак                 1      M   компаньон     0   \n",
       "6    женат / замужем                 0      F   компаньон     0   \n",
       "7    женат / замужем                 0      M   сотрудник     0   \n",
       "8   гражданский брак                 1      F   сотрудник     0   \n",
       "9    женат / замужем                 0      M   сотрудник     0   \n",
       "10   женат / замужем                 0      M   компаньон     0   \n",
       "11   женат / замужем                 0      F   сотрудник     0   \n",
       "12  гражданский брак                 1      M   пенсионер     0   \n",
       "13   женат / замужем                 0      F   сотрудник     0   \n",
       "14  гражданский брак                 1      F   компаньон     1   \n",
       "15   женат / замужем                 0      F   сотрудник     0   \n",
       "16   женат / замужем                 0      F   сотрудник     0   \n",
       "17  гражданский брак                 1      M   сотрудник     0   \n",
       "18    вдовец / вдова                 2      F   пенсионер     0   \n",
       "19         в разводе                 3      F   сотрудник     0   \n",
       "\n",
       "     total_income                                 purpose  \n",
       "0   253875.639453                           покупка жилья  \n",
       "1   112080.014102                 приобретение автомобиля  \n",
       "2   145885.952297                           покупка жилья  \n",
       "3   267628.550329              дополнительное образование  \n",
       "4   158616.077870                         сыграть свадьбу  \n",
       "5   255763.565419                           покупка жилья  \n",
       "6   240525.971920                       операции с жильем  \n",
       "7   135823.934197                             образование  \n",
       "8    95856.832424                   на проведение свадьбы  \n",
       "9   144425.938277                 покупка жилья для семьи  \n",
       "10  113943.491460                    покупка недвижимости  \n",
       "11   77069.234271       покупка коммерческой недвижимости  \n",
       "12  145017.937533                         сыграть свадьбу  \n",
       "13  130458.228857                 приобретение автомобиля  \n",
       "14  165127.911772              покупка жилой недвижимости  \n",
       "15  116820.904450  строительство собственной недвижимости  \n",
       "16  289202.704229                            недвижимость  \n",
       "17   90410.586745              строительство недвижимости  \n",
       "18   56823.777243      на покупку подержанного автомобиля  \n",
       "19  242831.107982            на покупку своего автомобиля  "
      ]
     },
     "execution_count": 40,
     "metadata": {},
     "output_type": "execute_result"
    }
   ],
   "source": [
    "data.head(20)"
   ]
  },
  {
   "cell_type": "markdown",
   "id": "27746644",
   "metadata": {
    "deletable": false,
    "editable": false,
    "id": "1c12e233",
    "tags": [
     "start_task"
    ]
   },
   "source": [
    "**Задание 3. Выведите основную информацию о датафрейме с помощью метода `info()`.**"
   ]
  },
  {
   "cell_type": "code",
   "execution_count": 5,
   "id": "5230367e",
   "metadata": {
    "id": "2b757bca"
   },
   "outputs": [
    {
     "name": "stdout",
     "output_type": "stream",
     "text": [
      "<class 'pandas.core.frame.DataFrame'>\n",
      "RangeIndex: 21525 entries, 0 to 21524\n",
      "Data columns (total 12 columns):\n",
      " #   Column            Non-Null Count  Dtype  \n",
      "---  ------            --------------  -----  \n",
      " 0   children          21525 non-null  int64  \n",
      " 1   days_employed     19351 non-null  float64\n",
      " 2   dob_years         21525 non-null  int64  \n",
      " 3   education         21525 non-null  object \n",
      " 4   education_id      21525 non-null  int64  \n",
      " 5   family_status     21525 non-null  object \n",
      " 6   family_status_id  21525 non-null  int64  \n",
      " 7   gender            21525 non-null  object \n",
      " 8   income_type       21525 non-null  object \n",
      " 9   debt              21525 non-null  int64  \n",
      " 10  total_income      19351 non-null  float64\n",
      " 11  purpose           21525 non-null  object \n",
      "dtypes: float64(2), int64(5), object(5)\n",
      "memory usage: 2.0+ MB\n"
     ]
    }
   ],
   "source": [
    "data.info()"
   ]
  },
  {
   "cell_type": "markdown",
   "id": "2d1f0108",
   "metadata": {
    "deletable": false,
    "editable": false,
    "id": "333ec665"
   },
   "source": [
    "## Предобработка данных"
   ]
  },
  {
   "cell_type": "markdown",
   "id": "0c20975d",
   "metadata": {
    "deletable": false,
    "editable": false,
    "id": "02d92d53"
   },
   "source": [
    "### Удаление пропусков"
   ]
  },
  {
   "cell_type": "markdown",
   "id": "8b677b36",
   "metadata": {
    "deletable": false,
    "editable": false,
    "id": "cd84967c",
    "tags": [
     "start_task"
    ]
   },
   "source": [
    "**Задание 4. Выведите количество пропущенных значений для каждого столбца. Используйте комбинацию двух методов.**"
   ]
  },
  {
   "cell_type": "code",
   "execution_count": 6,
   "id": "7d8c8eb9",
   "metadata": {
    "id": "7f9b2309"
   },
   "outputs": [
    {
     "data": {
      "text/plain": [
       "children               0\n",
       "days_employed       2174\n",
       "dob_years              0\n",
       "education              0\n",
       "education_id           0\n",
       "family_status          0\n",
       "family_status_id       0\n",
       "gender                 0\n",
       "income_type            0\n",
       "debt                   0\n",
       "total_income        2174\n",
       "purpose                0\n",
       "dtype: int64"
      ]
     },
     "execution_count": 6,
     "metadata": {},
     "output_type": "execute_result"
    }
   ],
   "source": [
    "data.isna().sum()"
   ]
  },
  {
   "cell_type": "markdown",
   "id": "edc6c708",
   "metadata": {
    "deletable": false,
    "editable": false,
    "id": "db86e27b",
    "tags": [
     "start_task"
    ]
   },
   "source": [
    "**Задание 5. В двух столбцах есть пропущенные значения. Один из них — `days_employed`. Пропуски в этом столбце вы обработаете на следующем этапе. Другой столбец с пропущенными значениями — `total_income` — хранит данные о доходах. На сумму дохода сильнее всего влияет тип занятости, поэтому заполнить пропуски в этом столбце нужно медианным значением по каждому типу из столбца `income_type`. Например, у человека с типом занятости `сотрудник` пропуск в столбце `total_income` должен быть заполнен медианным доходом среди всех записей с тем же типом.**"
   ]
  },
  {
   "cell_type": "code",
   "execution_count": 11,
   "id": "003aaa8e",
   "metadata": {},
   "outputs": [],
   "source": [
    "median_total = data.groupby('income_type')['total_income'].median()\n",
    "uniq_type = data['income_type'].unique()\n",
    "for tp in uniq_type:\n",
    "     data.loc[(data['total_income'].isna()) & (data['income_type'] == tp), 'total_income'] = median_total[tp]"
   ]
  },
  {
   "cell_type": "markdown",
   "id": "0b741a60",
   "metadata": {
    "deletable": false,
    "editable": false,
    "id": "89da5ece"
   },
   "source": [
    "### Обработка аномальных значений"
   ]
  },
  {
   "cell_type": "markdown",
   "id": "ce62d102",
   "metadata": {
    "deletable": false,
    "editable": false,
    "id": "57964554",
    "tags": [
     "start_task"
    ]
   },
   "source": [
    "**Задание 6. В данных могут встречаться артефакты (аномалии) — значения, которые не отражают действительность и появились по какой-то ошибке. Таким артефактом будет отрицательное количество дней трудового стажа в столбце `days_employed`. Для реальных данных это нормально. Обработайте значения в этом столбце: замените все отрицательные значения положительными с помощью метода `abs()`.**"
   ]
  },
  {
   "cell_type": "code",
   "execution_count": 4,
   "id": "2fbef987",
   "metadata": {
    "id": "f6f055bf"
   },
   "outputs": [],
   "source": [
    "data['days_employed'] = data['days_employed'].abs() # К столбцу days_employed применяю метод абсолютного значения abs()"
   ]
  },
  {
   "cell_type": "markdown",
   "id": "98718753",
   "metadata": {
    "deletable": false,
    "editable": false,
    "id": "6107dd2f",
    "tags": [
     "start_task"
    ]
   },
   "source": [
    "**Задание 7. Для каждого типа занятости выведите медианное значение трудового стажа `days_employed` в днях.**"
   ]
  },
  {
   "cell_type": "code",
   "execution_count": 5,
   "id": "3e3165a5",
   "metadata": {
    "id": "85a5faf6"
   },
   "outputs": [
    {
     "data": {
      "text/plain": [
       "income_type\n",
       "безработный        366413.652744\n",
       "в декрете            3296.759962\n",
       "госслужащий          2689.368353\n",
       "компаньон            1547.382223\n",
       "пенсионер          365213.306266\n",
       "предприниматель       520.848083\n",
       "сотрудник            1574.202821\n",
       "студент               578.751554\n",
       "Name: days_employed, dtype: float64"
      ]
     },
     "execution_count": 5,
     "metadata": {},
     "output_type": "execute_result"
    }
   ],
   "source": [
    "data['days_employed'].groupby(data['income_type']).median() \n",
    "#группирую данные по столбцу income_type и вывожу медианные занчения days_employed"
   ]
  },
  {
   "cell_type": "markdown",
   "id": "7e481d0c",
   "metadata": {
    "deletable": false,
    "editable": false,
    "id": "38d1a030"
   },
   "source": [
    "У двух типов (безработные и пенсионеры) получатся аномально большие значения. Исправить такие значения сложно, поэтому оставьте их как есть. Тем более этот столбец не понадобится вам для исследования."
   ]
  },
  {
   "cell_type": "markdown",
   "id": "398f01dc",
   "metadata": {
    "deletable": false,
    "editable": false,
    "id": "d8a9f147",
    "tags": [
     "start_task"
    ]
   },
   "source": [
    "**Задание 8. Выведите перечень уникальных значений столбца `children`.**"
   ]
  },
  {
   "cell_type": "code",
   "execution_count": 6,
   "id": "25c003f4",
   "metadata": {
    "id": "ef5056eb"
   },
   "outputs": [
    {
     "name": "stdout",
     "output_type": "stream",
     "text": [
      "[ 1  0  3  2 -1  4 20  5]\n"
     ]
    }
   ],
   "source": [
    "print(data['children'].unique()) #список уникальных значений столбца children"
   ]
  },
  {
   "cell_type": "markdown",
   "id": "79eb89b3",
   "metadata": {
    "deletable": false,
    "editable": false,
    "id": "40b9ebf2",
    "tags": [
     "start_task"
    ]
   },
   "source": [
    "**Задание 9. В столбце `children` есть два аномальных значения. Удалите строки, в которых встречаются такие аномальные значения из датафрейма `data`.**"
   ]
  },
  {
   "cell_type": "code",
   "execution_count": 7,
   "id": "7b27cb09",
   "metadata": {
    "id": "3ff9801d"
   },
   "outputs": [],
   "source": [
    "# аномальные значения -1 и 20 \n",
    "# выбираю из датафрейма строки без аномальных значений и сохраняю в датафрейм тем самым исключая ненужные значения\n",
    "data = data[data['children'] != -1]\n",
    "data = data[data['children'] != 20]"
   ]
  },
  {
   "cell_type": "markdown",
   "id": "38e4278a",
   "metadata": {
    "deletable": false,
    "editable": false,
    "id": "bbc4d0ce",
    "tags": [
     "start_task"
    ]
   },
   "source": [
    "**Задание 10. Ещё раз выведите перечень уникальных значений столбца `children`, чтобы убедиться, что артефакты удалены.**"
   ]
  },
  {
   "cell_type": "code",
   "execution_count": 8,
   "id": "5d9b77c4",
   "metadata": {
    "id": "ad4fa8b7"
   },
   "outputs": [
    {
     "name": "stdout",
     "output_type": "stream",
     "text": [
      "[1 0 3 2 4 5]\n"
     ]
    }
   ],
   "source": [
    "print(data['children'].unique()) #аномальные значения удалены"
   ]
  },
  {
   "cell_type": "markdown",
   "id": "976e07e8",
   "metadata": {
    "deletable": false,
    "editable": false,
    "id": "75440b63"
   },
   "source": [
    "### Удаление пропусков (продолжение)"
   ]
  },
  {
   "cell_type": "markdown",
   "id": "607dace1",
   "metadata": {
    "deletable": false,
    "editable": false,
    "id": "f4ea573f",
    "tags": [
     "start_task"
    ]
   },
   "source": [
    "**Задание 11. Заполните пропуски в столбце `days_employed` медианными значениями по каждому типу занятости `income_type`.**"
   ]
  },
  {
   "cell_type": "code",
   "execution_count": 9,
   "id": "24b609bd",
   "metadata": {},
   "outputs": [],
   "source": [
    "#создаю таблицу в которой содержаться фактические медианные значения\n",
    "median_table = data['days_employed'].groupby(data['income_type']).median()"
   ]
  },
  {
   "cell_type": "markdown",
   "id": "7db97b1d",
   "metadata": {},
   "source": [
    "В следющем цикле заполняю пропущенные значения медианным, алгоритм следующий:\n",
    "1) цикл идет по уникальым значениям income_type\n",
    "2) создается переменная доп_дата, которая содержит в себе исходую data, в котором в столбце income_type только значения соответствующие income_item\n",
    "3) нахожу медиану в dop_data по столбцу days_employed, с группировкой по income_type\n",
    "4) заполняю пропуски в основной data необходимыми медианными значениями"
   ]
  },
  {
   "cell_type": "code",
   "execution_count": 10,
   "id": "d51bdcda",
   "metadata": {},
   "outputs": [],
   "source": [
    "for income_item in data['income_type'].unique():\n",
    "    dop_data = data[data['income_type'] == income_item]\n",
    "    median = dop_data['days_employed'].groupby(dop_data['income_type']).median()\n",
    "    data.loc[data['income_type'] == income_item,'days_employed'] = data[data['income_type'] == income_item]['days_employed'].fillna(value = median[0]) "
   ]
  },
  {
   "cell_type": "markdown",
   "id": "fcbe5f5a",
   "metadata": {
    "deletable": false,
    "editable": false,
    "id": "2753f40d",
    "tags": [
     "start_task"
    ]
   },
   "source": [
    "**Задание 12. Убедитесь, что все пропуски заполнены. Проверьте себя и ещё раз выведите количество пропущенных значений для каждого столбца с помощью двух методов.**"
   ]
  },
  {
   "cell_type": "code",
   "execution_count": 11,
   "id": "8504ee45",
   "metadata": {
    "id": "55f78bc2"
   },
   "outputs": [
    {
     "data": {
      "text/plain": [
       "children            0\n",
       "days_employed       0\n",
       "dob_years           0\n",
       "education           0\n",
       "education_id        0\n",
       "family_status       0\n",
       "family_status_id    0\n",
       "gender              0\n",
       "income_type         0\n",
       "debt                0\n",
       "total_income        0\n",
       "purpose             0\n",
       "dtype: int64"
      ]
     },
     "execution_count": 11,
     "metadata": {},
     "output_type": "execute_result"
    }
   ],
   "source": [
    "data.isna().sum()"
   ]
  },
  {
   "cell_type": "markdown",
   "id": "ad11d829",
   "metadata": {
    "deletable": false,
    "editable": false,
    "id": "ddc81e43"
   },
   "source": [
    "### Изменение типов данных"
   ]
  },
  {
   "cell_type": "markdown",
   "id": "3261354c",
   "metadata": {
    "deletable": false,
    "editable": false,
    "id": "42d19d24",
    "tags": [
     "start_task"
    ]
   },
   "source": [
    "**Задание 13. Замените вещественный тип данных в столбце `total_income` на целочисленный с помощью метода `astype()`.**"
   ]
  },
  {
   "cell_type": "code",
   "execution_count": 12,
   "id": "2037a3f5",
   "metadata": {
    "id": "920b65ad"
   },
   "outputs": [],
   "source": [
    "#Замена\n",
    "data['total_income'] = data['total_income'].astype(int)"
   ]
  },
  {
   "cell_type": "code",
   "execution_count": 13,
   "id": "573a0d42",
   "metadata": {},
   "outputs": [
    {
     "name": "stdout",
     "output_type": "stream",
     "text": [
      "<class 'pandas.core.frame.DataFrame'>\n",
      "Int64Index: 21402 entries, 0 to 21524\n",
      "Data columns (total 12 columns):\n",
      " #   Column            Non-Null Count  Dtype  \n",
      "---  ------            --------------  -----  \n",
      " 0   children          21402 non-null  int64  \n",
      " 1   days_employed     21402 non-null  float64\n",
      " 2   dob_years         21402 non-null  int64  \n",
      " 3   education         21402 non-null  object \n",
      " 4   education_id      21402 non-null  int64  \n",
      " 5   family_status     21402 non-null  object \n",
      " 6   family_status_id  21402 non-null  int64  \n",
      " 7   gender            21402 non-null  object \n",
      " 8   income_type       21402 non-null  object \n",
      " 9   debt              21402 non-null  int64  \n",
      " 10  total_income      21402 non-null  int64  \n",
      " 11  purpose           21402 non-null  object \n",
      "dtypes: float64(1), int64(6), object(5)\n",
      "memory usage: 2.6+ MB\n"
     ]
    }
   ],
   "source": [
    "#Проверка\n",
    "data.info()"
   ]
  },
  {
   "cell_type": "markdown",
   "id": "bb2ad928",
   "metadata": {
    "deletable": false,
    "editable": false,
    "id": "80c420ba"
   },
   "source": [
    "### Обработка дубликатов"
   ]
  },
  {
   "cell_type": "markdown",
   "id": "b1f68c2b",
   "metadata": {
    "deletable": false,
    "editable": false,
    "tags": [
     "start_task"
    ]
   },
   "source": [
    "**Задание 14. Обработайте неявные дубликаты в столбце `education`. В этом столбце есть одни и те же значения, но записанные по-разному: с использованием заглавных и строчных букв. Приведите их к нижнему регистру. Проверьте остальные столбцы.**"
   ]
  },
  {
   "cell_type": "code",
   "execution_count": 15,
   "id": "c62be486",
   "metadata": {},
   "outputs": [],
   "source": [
    "data['education'] = data['education'].str.lower()"
   ]
  },
  {
   "cell_type": "markdown",
   "id": "40c370be",
   "metadata": {
    "deletable": false,
    "editable": false,
    "id": "dc587695",
    "tags": [
     "start_task"
    ]
   },
   "source": [
    "**Задание 15. Выведите на экран количество строк-дубликатов в данных. Если такие строки присутствуют, удалите их.**"
   ]
  },
  {
   "cell_type": "code",
   "execution_count": 12,
   "id": "07b938bf",
   "metadata": {
    "id": "3ee445e4"
   },
   "outputs": [],
   "source": [
    "data.duplicated().sum()# посчитайте дубликаты\n",
    "# удаление дубликатов путем перезаписывания даты\n",
    "data = data.drop_duplicates()"
   ]
  },
  {
   "cell_type": "markdown",
   "id": "4db5ccc0",
   "metadata": {
    "deletable": false,
    "editable": false,
    "id": "9904cf55"
   },
   "source": [
    "### Категоризация данных"
   ]
  },
  {
   "cell_type": "markdown",
   "id": "a08ff8b6",
   "metadata": {
    "deletable": false,
    "editable": false,
    "id": "72fcc8a2",
    "tags": [
     "start_task"
    ]
   },
   "source": [
    "**Задание 16. На основании диапазонов, указанных ниже, создайте в датафрейме `data` столбец `total_income_category` с категориями:**\n",
    "\n",
    "- 0–30000 — `'E'`;\n",
    "- 30001–50000 — `'D'`;\n",
    "- 50001–200000 — `'C'`;\n",
    "- 200001–1000000 — `'B'`;\n",
    "- 1000001 и выше — `'A'`.\n",
    "\n",
    "\n",
    "**Например, кредитополучателю с доходом 25000 нужно назначить категорию `'E'`, а клиенту, получающему 235000, — `'B'`. Используйте собственную функцию с именем `categorize_income()` и метод `apply()`.**"
   ]
  },
  {
   "cell_type": "code",
   "execution_count": 20,
   "id": "b4ff563d",
   "metadata": {
    "id": "e1771346"
   },
   "outputs": [],
   "source": [
    "# создайте функцию categorize_income()\n",
    "def categorize_income(total_income):\n",
    "    if total_income >= 0 and total_income <=30000:\n",
    "        return 'E'\n",
    "    elif total_income > 30000 and total_income <=50000:\n",
    "        return 'D'\n",
    "    elif total_income > 50000 and total_income <=200000:\n",
    "        return 'C'\n",
    "    elif total_income > 200000 and total_income <= 1000000:\n",
    "        return 'B'\n",
    "    elif total_income > 1000000:\n",
    "        return 'A'\n"
   ]
  },
  {
   "cell_type": "code",
   "execution_count": 24,
   "id": "868165b4",
   "metadata": {
    "id": "d5f3586d"
   },
   "outputs": [],
   "source": [
    "# примените функцию методом apply()\n",
    "data['total_income_category'] = data['total_income'].apply(categorize_income)# примените функцию методом apply()"
   ]
  },
  {
   "cell_type": "markdown",
   "id": "df7e48c0",
   "metadata": {
    "deletable": false,
    "editable": false,
    "id": "dde49b5c",
    "tags": [
     "start_task"
    ]
   },
   "source": [
    "**Задание 17. Выведите на экран перечень уникальных целей взятия кредита из столбца `purpose`.**"
   ]
  },
  {
   "cell_type": "code",
   "execution_count": 26,
   "id": "131b4bda",
   "metadata": {
    "id": "f67ce9b3"
   },
   "outputs": [
    {
     "data": {
      "text/plain": [
       "array(['покупка жилья', 'приобретение автомобиля',\n",
       "       'дополнительное образование', 'сыграть свадьбу',\n",
       "       'операции с жильем', 'образование', 'на проведение свадьбы',\n",
       "       'покупка жилья для семьи', 'покупка недвижимости',\n",
       "       'покупка коммерческой недвижимости', 'покупка жилой недвижимости',\n",
       "       'строительство собственной недвижимости', 'недвижимость',\n",
       "       'строительство недвижимости', 'на покупку подержанного автомобиля',\n",
       "       'на покупку своего автомобиля',\n",
       "       'операции с коммерческой недвижимостью',\n",
       "       'строительство жилой недвижимости', 'жилье',\n",
       "       'операции со своей недвижимостью', 'автомобили',\n",
       "       'заняться образованием', 'сделка с подержанным автомобилем',\n",
       "       'получение образования', 'автомобиль', 'свадьба',\n",
       "       'получение дополнительного образования', 'покупка своего жилья',\n",
       "       'операции с недвижимостью', 'получение высшего образования',\n",
       "       'свой автомобиль', 'сделка с автомобилем',\n",
       "       'профильное образование', 'высшее образование',\n",
       "       'покупка жилья для сдачи', 'на покупку автомобиля', 'ремонт жилью',\n",
       "       'заняться высшим образованием'], dtype=object)"
      ]
     },
     "execution_count": 26,
     "metadata": {},
     "output_type": "execute_result"
    }
   ],
   "source": [
    "data['purpose'].unique()"
   ]
  },
  {
   "cell_type": "markdown",
   "id": "fad87875",
   "metadata": {
    "deletable": false,
    "editable": false,
    "id": "85d0aef0",
    "tags": [
     "start_task"
    ]
   },
   "source": [
    "**Задание 18. Создайте функцию, которая на основании данных из столбца `purpose` сформирует новый столбец `purpose_category`, в который войдут следующие категории:**\n",
    "\n",
    "- `'операции с автомобилем'`,\n",
    "- `'операции с недвижимостью'`,\n",
    "- `'проведение свадьбы'`,\n",
    "- `'получение образования'`.\n",
    "\n",
    "**Например, если в столбце `purpose` находится подстрока `'на покупку автомобиля'`, то в столбце `purpose_category` должна появиться строка `'операции с автомобилем'`.**\n",
    "\n",
    "**Используйте собственную функцию с именем `categorize_purpose()` и метод `apply()`. Изучите данные в столбце `purpose` и определите, какие подстроки помогут вам правильно определить категорию.**"
   ]
  },
  {
   "cell_type": "code",
   "execution_count": 15,
   "id": "fb9d4596",
   "metadata": {
    "id": "e149fab4"
   },
   "outputs": [],
   "source": [
    "# создайте функцию categorize_purpose()\n",
    "def categorize_purpose(purpose):\n",
    "    if 'жиль' in purpose or 'недвиж' in purpose:\n",
    "        return 'операции с недвижимостью'\n",
    "    elif 'авто' in purpose:\n",
    "        return 'операции с автомобилем'\n",
    "    elif 'свадь' in purpose:\n",
    "        return 'проведение свадьбы'\n",
    "    elif 'образ' in purpose:\n",
    "        return 'получение образования'\n",
    "data['purpose_category'] = data['purpose'].apply(categorize_purpose)"
   ]
  },
  {
   "cell_type": "code",
   "execution_count": null,
   "id": "90123bb6",
   "metadata": {},
   "outputs": [],
   "source": []
  }
 ],
 "metadata": {
  "ExecuteTimeLog": [
   {
    "duration": 374,
    "start_time": "2022-09-05T13:18:16.234Z"
   },
   {
    "duration": 117,
    "start_time": "2022-09-05T13:18:17.262Z"
   },
   {
    "duration": 20,
    "start_time": "2022-09-05T13:18:32.406Z"
   },
   {
    "duration": 14,
    "start_time": "2022-09-05T13:18:51.154Z"
   },
   {
    "duration": 42,
    "start_time": "2022-09-06T23:08:35.134Z"
   },
   {
    "duration": 390,
    "start_time": "2022-09-06T23:08:40.812Z"
   },
   {
    "duration": 636,
    "start_time": "2022-09-06T23:08:42.305Z"
   },
   {
    "duration": 10,
    "start_time": "2022-09-06T23:08:47.558Z"
   },
   {
    "duration": 4,
    "start_time": "2022-09-06T23:08:55.638Z"
   },
   {
    "duration": 17,
    "start_time": "2022-09-06T23:09:04.234Z"
   },
   {
    "duration": 38,
    "start_time": "2022-09-06T23:10:05.137Z"
   },
   {
    "duration": 37,
    "start_time": "2022-09-06T23:10:13.496Z"
   },
   {
    "duration": 37,
    "start_time": "2022-09-06T23:10:18.401Z"
   },
   {
    "duration": 4,
    "start_time": "2022-09-06T23:10:39.364Z"
   },
   {
    "duration": 6,
    "start_time": "2022-09-06T23:11:10.407Z"
   },
   {
    "duration": 19,
    "start_time": "2022-09-06T23:11:20.899Z"
   },
   {
    "duration": 11,
    "start_time": "2022-09-06T23:11:30.071Z"
   },
   {
    "duration": 26,
    "start_time": "2022-09-06T23:12:02.862Z"
   },
   {
    "duration": 16,
    "start_time": "2022-09-06T23:12:21.685Z"
   },
   {
    "duration": 9,
    "start_time": "2022-09-06T23:12:36.749Z"
   },
   {
    "duration": 5,
    "start_time": "2022-09-06T23:13:26.563Z"
   },
   {
    "duration": 3,
    "start_time": "2022-09-06T23:14:58.209Z"
   },
   {
    "duration": 3,
    "start_time": "2022-09-06T23:15:08.265Z"
   },
   {
    "duration": 6,
    "start_time": "2022-09-06T23:16:51.361Z"
   },
   {
    "duration": 12,
    "start_time": "2022-09-06T23:17:05.423Z"
   },
   {
    "duration": 6,
    "start_time": "2022-09-06T23:17:09.798Z"
   },
   {
    "duration": 5,
    "start_time": "2022-09-06T23:18:32.517Z"
   },
   {
    "duration": 6,
    "start_time": "2022-09-06T23:19:20.364Z"
   },
   {
    "duration": 5,
    "start_time": "2022-09-06T23:19:25.829Z"
   },
   {
    "duration": 4,
    "start_time": "2022-09-06T23:21:25.879Z"
   },
   {
    "duration": 5,
    "start_time": "2022-09-06T23:22:48.394Z"
   },
   {
    "duration": 49,
    "start_time": "2022-09-06T23:23:28.606Z"
   },
   {
    "duration": 31,
    "start_time": "2022-09-06T23:23:32.588Z"
   },
   {
    "duration": 5,
    "start_time": "2022-09-06T23:23:54.200Z"
   },
   {
    "duration": 7,
    "start_time": "2022-09-06T23:24:15.630Z"
   },
   {
    "duration": 9,
    "start_time": "2022-09-06T23:24:59.375Z"
   },
   {
    "duration": 4,
    "start_time": "2022-09-06T23:25:04.065Z"
   },
   {
    "duration": 4,
    "start_time": "2022-09-06T23:25:15.376Z"
   },
   {
    "duration": 7,
    "start_time": "2022-09-06T23:26:43.797Z"
   },
   {
    "duration": 4,
    "start_time": "2022-09-06T23:27:44.237Z"
   },
   {
    "duration": 2,
    "start_time": "2022-09-06T23:28:06.821Z"
   },
   {
    "duration": 3,
    "start_time": "2022-09-06T23:28:28.684Z"
   },
   {
    "duration": 7,
    "start_time": "2022-09-06T23:28:37.905Z"
   },
   {
    "duration": 20,
    "start_time": "2022-09-06T23:28:49.122Z"
   },
   {
    "duration": 13,
    "start_time": "2022-09-06T23:28:59.617Z"
   },
   {
    "duration": 1165,
    "start_time": "2022-09-06T23:29:07.211Z"
   },
   {
    "duration": 20,
    "start_time": "2022-09-06T23:29:14.512Z"
   },
   {
    "duration": 19,
    "start_time": "2022-09-06T23:29:33.222Z"
   },
   {
    "duration": 2,
    "start_time": "2022-09-06T23:29:59.623Z"
   },
   {
    "duration": 68,
    "start_time": "2022-09-06T23:30:00.770Z"
   },
   {
    "duration": 14,
    "start_time": "2022-09-06T23:30:04.532Z"
   },
   {
    "duration": 4,
    "start_time": "2022-09-06T23:30:14.787Z"
   },
   {
    "duration": 18,
    "start_time": "2022-09-06T23:30:43.241Z"
   },
   {
    "duration": 11,
    "start_time": "2022-09-06T23:31:54.773Z"
   },
   {
    "duration": 37,
    "start_time": "2022-09-06T23:32:16.223Z"
   },
   {
    "duration": 21,
    "start_time": "2022-09-06T23:35:54.774Z"
   },
   {
    "duration": 7,
    "start_time": "2022-09-06T23:40:19.709Z"
   },
   {
    "duration": 9,
    "start_time": "2022-09-06T23:40:50.281Z"
   },
   {
    "duration": 107,
    "start_time": "2022-09-07T00:08:05.894Z"
   },
   {
    "duration": 117,
    "start_time": "2022-09-07T00:08:12.688Z"
   },
   {
    "duration": 20,
    "start_time": "2022-09-07T00:08:17.197Z"
   },
   {
    "duration": 7,
    "start_time": "2022-09-07T00:08:42.781Z"
   },
   {
    "duration": 8,
    "start_time": "2022-09-07T00:09:06.771Z"
   },
   {
    "duration": 4,
    "start_time": "2022-09-07T00:09:08.525Z"
   },
   {
    "duration": 8,
    "start_time": "2022-09-07T00:09:21.993Z"
   },
   {
    "duration": 10,
    "start_time": "2022-09-07T00:11:04.418Z"
   },
   {
    "duration": 8,
    "start_time": "2022-09-07T00:11:42.808Z"
   },
   {
    "duration": 5,
    "start_time": "2022-09-07T00:14:14.957Z"
   },
   {
    "duration": 5,
    "start_time": "2022-09-07T00:14:31.687Z"
   },
   {
    "duration": 5,
    "start_time": "2022-09-07T00:15:28.583Z"
   },
   {
    "duration": 19,
    "start_time": "2022-09-07T00:23:28.044Z"
   },
   {
    "duration": 8,
    "start_time": "2022-09-07T00:24:49.203Z"
   },
   {
    "duration": 8,
    "start_time": "2022-09-07T00:26:26.102Z"
   },
   {
    "duration": 4977,
    "start_time": "2022-09-07T00:26:32.670Z"
   },
   {
    "duration": 4390,
    "start_time": "2022-09-07T00:27:11.368Z"
   },
   {
    "duration": 6,
    "start_time": "2022-09-07T00:28:59.485Z"
   },
   {
    "duration": 7,
    "start_time": "2022-09-07T00:29:08.819Z"
   },
   {
    "duration": 8,
    "start_time": "2022-09-07T00:29:20.904Z"
   },
   {
    "duration": 14,
    "start_time": "2022-09-07T00:30:12.110Z"
   },
   {
    "duration": 407,
    "start_time": "2022-09-12T12:17:53.806Z"
   },
   {
    "duration": 144,
    "start_time": "2022-09-12T12:17:58.747Z"
   },
   {
    "duration": 67,
    "start_time": "2022-09-12T12:21:13.311Z"
   },
   {
    "duration": 11,
    "start_time": "2022-09-12T12:21:19.777Z"
   },
   {
    "duration": 6,
    "start_time": "2022-09-12T12:24:51.792Z"
   },
   {
    "duration": 4,
    "start_time": "2022-09-12T12:26:46.069Z"
   },
   {
    "duration": 9,
    "start_time": "2022-09-12T12:28:29.101Z"
   },
   {
    "duration": 11,
    "start_time": "2022-09-12T12:28:43.363Z"
   },
   {
    "duration": 9,
    "start_time": "2022-09-12T12:29:54.536Z"
   },
   {
    "duration": 1270,
    "start_time": "2022-09-12T12:30:45.558Z"
   },
   {
    "duration": 7,
    "start_time": "2022-09-12T12:30:59.809Z"
   },
   {
    "duration": 2046,
    "start_time": "2022-09-12T12:31:55.578Z"
   },
   {
    "duration": 1813,
    "start_time": "2022-09-12T12:32:19.553Z"
   },
   {
    "duration": 1520,
    "start_time": "2022-09-12T12:32:38.500Z"
   },
   {
    "duration": 1858,
    "start_time": "2022-09-12T12:32:45.062Z"
   },
   {
    "duration": 6,
    "start_time": "2022-09-12T15:00:25.786Z"
   },
   {
    "duration": 9,
    "start_time": "2022-09-12T15:00:58.236Z"
   },
   {
    "duration": 6,
    "start_time": "2022-09-12T15:01:27.198Z"
   },
   {
    "duration": 28,
    "start_time": "2022-09-12T15:03:21.294Z"
   },
   {
    "duration": 16,
    "start_time": "2022-09-12T15:08:40.224Z"
   },
   {
    "duration": 4,
    "start_time": "2022-09-12T15:09:04.436Z"
   },
   {
    "duration": 1035,
    "start_time": "2022-09-12T15:09:21.486Z"
   },
   {
    "duration": 871,
    "start_time": "2022-09-12T15:10:49.261Z"
   },
   {
    "duration": 1010,
    "start_time": "2022-09-12T15:11:19.809Z"
   },
   {
    "duration": 938,
    "start_time": "2022-09-12T15:11:37.540Z"
   },
   {
    "duration": 2,
    "start_time": "2022-09-12T15:11:42.983Z"
   },
   {
    "duration": 69,
    "start_time": "2022-09-12T15:11:43.670Z"
   },
   {
    "duration": 17,
    "start_time": "2022-09-12T15:11:45.863Z"
   },
   {
    "duration": 8,
    "start_time": "2022-09-12T15:11:51.410Z"
   },
   {
    "duration": 9,
    "start_time": "2022-09-12T15:12:05.845Z"
   },
   {
    "duration": 6,
    "start_time": "2022-09-12T15:12:07.653Z"
   },
   {
    "duration": 30,
    "start_time": "2022-09-12T15:12:10.062Z"
   },
   {
    "duration": 7,
    "start_time": "2022-09-12T15:12:15.313Z"
   },
   {
    "duration": 27,
    "start_time": "2022-09-12T15:12:31.470Z"
   },
   {
    "duration": 11,
    "start_time": "2022-09-12T15:13:24.752Z"
   },
   {
    "duration": 14,
    "start_time": "2022-09-12T15:13:50.562Z"
   },
   {
    "duration": 5,
    "start_time": "2022-09-12T15:15:15.536Z"
   },
   {
    "duration": 5,
    "start_time": "2022-09-12T15:15:19.224Z"
   },
   {
    "duration": 1093,
    "start_time": "2022-09-12T15:15:37.919Z"
   },
   {
    "duration": 1129,
    "start_time": "2022-09-12T15:15:52.735Z"
   },
   {
    "duration": 990,
    "start_time": "2022-09-12T15:16:15.328Z"
   },
   {
    "duration": 2,
    "start_time": "2022-09-12T15:16:29.695Z"
   },
   {
    "duration": 71,
    "start_time": "2022-09-12T15:16:30.252Z"
   },
   {
    "duration": 16,
    "start_time": "2022-09-12T15:16:31.530Z"
   },
   {
    "duration": 15,
    "start_time": "2022-09-12T15:16:32.859Z"
   },
   {
    "duration": 10,
    "start_time": "2022-09-12T15:16:36.882Z"
   },
   {
    "duration": 5,
    "start_time": "2022-09-12T15:16:38.357Z"
   },
   {
    "duration": 4,
    "start_time": "2022-09-12T15:16:41.046Z"
   },
   {
    "duration": 8,
    "start_time": "2022-09-12T15:16:42.494Z"
   },
   {
    "duration": 4,
    "start_time": "2022-09-12T15:16:49.688Z"
   },
   {
    "duration": 9,
    "start_time": "2022-09-12T15:16:50.994Z"
   },
   {
    "duration": 4,
    "start_time": "2022-09-12T15:16:52.474Z"
   },
   {
    "duration": 909,
    "start_time": "2022-09-12T15:16:57.628Z"
   },
   {
    "duration": 9,
    "start_time": "2022-09-12T15:17:11.300Z"
   },
   {
    "duration": 6,
    "start_time": "2022-09-12T15:17:14.176Z"
   },
   {
    "duration": 27,
    "start_time": "2022-09-12T15:17:21.564Z"
   },
   {
    "duration": 962,
    "start_time": "2022-09-12T15:17:31.731Z"
   },
   {
    "duration": 959,
    "start_time": "2022-09-12T15:18:07.312Z"
   },
   {
    "duration": 58,
    "start_time": "2022-09-16T16:43:56.251Z"
   },
   {
    "duration": 389,
    "start_time": "2022-09-16T16:44:02.601Z"
   },
   {
    "duration": 336,
    "start_time": "2022-09-16T16:44:03.464Z"
   },
   {
    "duration": 21,
    "start_time": "2022-09-16T16:44:04.940Z"
   },
   {
    "duration": 14,
    "start_time": "2022-09-16T16:44:06.220Z"
   },
   {
    "duration": 15,
    "start_time": "2022-09-16T16:44:08.300Z"
   },
   {
    "duration": 6,
    "start_time": "2022-09-16T16:44:09.847Z"
   },
   {
    "duration": 32,
    "start_time": "2022-09-16T16:45:34.487Z"
   },
   {
    "duration": 5,
    "start_time": "2022-09-16T16:45:56.243Z"
   },
   {
    "duration": 17,
    "start_time": "2022-09-16T16:46:20.412Z"
   },
   {
    "duration": 42,
    "start_time": "2022-09-16T16:46:54.645Z"
   },
   {
    "duration": 49,
    "start_time": "2022-09-16T16:47:05.500Z"
   },
   {
    "duration": 5,
    "start_time": "2022-09-16T16:47:34.459Z"
   },
   {
    "duration": 32,
    "start_time": "2022-09-16T16:48:01.756Z"
   },
   {
    "duration": 13,
    "start_time": "2022-09-16T16:48:06.536Z"
   },
   {
    "duration": 14,
    "start_time": "2022-09-16T16:48:18.516Z"
   },
   {
    "duration": 7,
    "start_time": "2022-09-16T16:49:30.920Z"
   },
   {
    "duration": 7,
    "start_time": "2022-09-16T16:49:35.790Z"
   },
   {
    "duration": 3,
    "start_time": "2022-09-16T16:49:39.608Z"
   },
   {
    "duration": 70,
    "start_time": "2022-09-16T16:49:40.007Z"
   },
   {
    "duration": 7,
    "start_time": "2022-09-16T16:49:54.085Z"
   },
   {
    "duration": 9,
    "start_time": "2022-09-16T16:49:59.620Z"
   },
   {
    "duration": 8,
    "start_time": "2022-09-16T16:50:06.089Z"
   },
   {
    "duration": 15,
    "start_time": "2022-09-16T16:50:22.208Z"
   },
   {
    "duration": 3,
    "start_time": "2022-09-16T16:50:53.162Z"
   },
   {
    "duration": 11,
    "start_time": "2022-09-16T16:50:55.517Z"
   },
   {
    "duration": 4,
    "start_time": "2022-09-16T16:50:57.350Z"
   },
   {
    "duration": 5,
    "start_time": "2022-09-16T16:51:07.593Z"
   },
   {
    "duration": 6,
    "start_time": "2022-09-16T16:54:58.590Z"
   },
   {
    "duration": 9,
    "start_time": "2022-09-16T16:55:03.789Z"
   },
   {
    "duration": 8,
    "start_time": "2022-09-16T16:55:23.829Z"
   },
   {
    "duration": 73,
    "start_time": "2022-09-16T16:57:28.058Z"
   },
   {
    "duration": 18,
    "start_time": "2022-09-16T16:57:33.120Z"
   },
   {
    "duration": 22,
    "start_time": "2022-09-16T16:57:40.125Z"
   },
   {
    "duration": 280,
    "start_time": "2022-09-16T16:59:13.060Z"
   },
   {
    "duration": 249,
    "start_time": "2022-09-16T16:59:34.289Z"
   },
   {
    "duration": 5,
    "start_time": "2022-09-16T16:59:39.233Z"
   },
   {
    "duration": 7,
    "start_time": "2022-09-16T16:59:52.193Z"
   },
   {
    "duration": 9,
    "start_time": "2022-09-16T17:00:20.204Z"
   },
   {
    "duration": 23,
    "start_time": "2022-09-16T17:00:30.374Z"
   },
   {
    "duration": 7,
    "start_time": "2022-09-16T17:08:22.605Z"
   },
   {
    "duration": 1567,
    "start_time": "2022-09-16T17:09:05.215Z"
   },
   {
    "duration": 2,
    "start_time": "2022-09-16T17:10:59.938Z"
   },
   {
    "duration": 1431,
    "start_time": "2022-09-16T17:11:10.356Z"
   },
   {
    "duration": 1205,
    "start_time": "2022-09-16T17:11:50.130Z"
   },
   {
    "duration": 1883,
    "start_time": "2022-09-16T17:12:02.380Z"
   },
   {
    "duration": 5,
    "start_time": "2022-09-16T17:14:04.906Z"
   },
   {
    "duration": 42,
    "start_time": "2022-09-16T17:16:33.964Z"
   },
   {
    "duration": 15,
    "start_time": "2022-09-16T17:17:00.132Z"
   },
   {
    "duration": 40,
    "start_time": "2022-09-16T17:17:04.982Z"
   },
   {
    "duration": 70,
    "start_time": "2022-09-16T17:18:10.057Z"
   },
   {
    "duration": 11,
    "start_time": "2022-09-16T17:18:15.750Z"
   },
   {
    "duration": 64,
    "start_time": "2022-09-16T17:18:26.981Z"
   },
   {
    "duration": 11,
    "start_time": "2022-09-16T17:18:30.593Z"
   },
   {
    "duration": 72,
    "start_time": "2022-09-17T11:15:27.323Z"
   },
   {
    "duration": 519,
    "start_time": "2022-09-17T11:15:32.283Z"
   },
   {
    "duration": 350,
    "start_time": "2022-09-17T11:15:32.804Z"
   },
   {
    "duration": 5,
    "start_time": "2022-09-17T11:15:40.188Z"
   },
   {
    "duration": 4,
    "start_time": "2022-09-17T11:15:43.773Z"
   },
   {
    "duration": 13,
    "start_time": "2022-09-17T11:15:45.344Z"
   },
   {
    "duration": 4,
    "start_time": "2022-09-17T11:15:47.888Z"
   },
   {
    "duration": 12,
    "start_time": "2022-09-17T11:15:49.459Z"
   },
   {
    "duration": 5,
    "start_time": "2022-09-17T11:15:51.697Z"
   },
   {
    "duration": 7,
    "start_time": "2022-09-17T11:16:07.699Z"
   },
   {
    "duration": 97,
    "start_time": "2022-09-17T11:16:11.360Z"
   },
   {
    "duration": 14,
    "start_time": "2022-09-17T11:16:14.260Z"
   },
   {
    "duration": 49,
    "start_time": "2022-09-17T11:16:17.697Z"
   },
   {
    "duration": 21,
    "start_time": "2022-09-17T11:16:24.342Z"
   },
   {
    "duration": 8,
    "start_time": "2022-09-17T11:16:54.565Z"
   },
   {
    "duration": 6,
    "start_time": "2022-09-17T11:17:19.631Z"
   },
   {
    "duration": 20,
    "start_time": "2022-09-17T11:17:35.247Z"
   },
   {
    "duration": 4,
    "start_time": "2022-09-17T11:17:45.916Z"
   },
   {
    "duration": 14,
    "start_time": "2022-09-17T11:17:47.390Z"
   },
   {
    "duration": 5,
    "start_time": "2022-09-17T11:18:55.780Z"
   },
   {
    "duration": 7,
    "start_time": "2022-09-17T11:19:02.769Z"
   },
   {
    "duration": 6,
    "start_time": "2022-09-17T11:21:36.756Z"
   },
   {
    "duration": 13,
    "start_time": "2022-09-17T11:23:41.299Z"
   },
   {
    "duration": 22,
    "start_time": "2022-09-17T11:23:54.403Z"
   },
   {
    "duration": 6,
    "start_time": "2022-09-17T11:23:57.352Z"
   },
   {
    "duration": 18,
    "start_time": "2022-09-17T11:25:17.391Z"
   },
   {
    "duration": 28,
    "start_time": "2022-09-17T11:25:53.190Z"
   },
   {
    "duration": 18,
    "start_time": "2022-09-17T11:25:55.662Z"
   },
   {
    "duration": 384,
    "start_time": "2022-09-17T12:00:25.669Z"
   },
   {
    "duration": 329,
    "start_time": "2022-09-17T12:00:26.968Z"
   },
   {
    "duration": 5,
    "start_time": "2022-09-17T12:00:39.185Z"
   },
   {
    "duration": 4,
    "start_time": "2022-09-17T12:00:41.467Z"
   },
   {
    "duration": 12,
    "start_time": "2022-09-17T12:00:45.830Z"
   },
   {
    "duration": 4,
    "start_time": "2022-09-17T12:00:48.801Z"
   },
   {
    "duration": 9,
    "start_time": "2022-09-17T12:00:52.565Z"
   },
   {
    "duration": 3,
    "start_time": "2022-09-17T12:00:54.190Z"
   },
   {
    "duration": 7,
    "start_time": "2022-09-17T12:00:56.906Z"
   },
   {
    "duration": 63,
    "start_time": "2022-09-17T12:00:58.757Z"
   },
   {
    "duration": 10,
    "start_time": "2022-09-17T12:01:00.643Z"
   },
   {
    "duration": 3,
    "start_time": "2022-09-17T12:01:04.122Z"
   },
   {
    "duration": 18,
    "start_time": "2022-09-17T12:01:05.421Z"
   },
   {
    "duration": 5,
    "start_time": "2022-09-17T12:01:13.000Z"
   },
   {
    "duration": 12,
    "start_time": "2022-09-17T12:01:13.985Z"
   },
   {
    "duration": 9,
    "start_time": "2022-09-17T12:01:14.558Z"
   },
   {
    "duration": 27,
    "start_time": "2022-09-17T12:01:18.239Z"
   },
   {
    "duration": 27,
    "start_time": "2022-09-17T12:01:18.943Z"
   },
   {
    "duration": 6,
    "start_time": "2022-09-17T12:01:52.261Z"
   },
   {
    "duration": 4,
    "start_time": "2022-09-17T12:05:20.704Z"
   },
   {
    "duration": 2,
    "start_time": "2022-09-17T12:05:34.305Z"
   },
   {
    "duration": 4,
    "start_time": "2022-09-17T12:05:38.478Z"
   },
   {
    "duration": 4,
    "start_time": "2022-09-17T12:05:43.048Z"
   },
   {
    "duration": 9,
    "start_time": "2022-09-17T12:06:40.101Z"
   },
   {
    "duration": 14,
    "start_time": "2022-09-17T12:06:49.528Z"
   },
   {
    "duration": 6,
    "start_time": "2022-09-17T12:07:25.685Z"
   },
   {
    "duration": 3,
    "start_time": "2022-09-17T12:11:05.796Z"
   },
   {
    "duration": 3,
    "start_time": "2022-09-17T12:11:32.923Z"
   },
   {
    "duration": 3,
    "start_time": "2022-09-17T12:13:42.310Z"
   },
   {
    "duration": 3,
    "start_time": "2022-09-17T12:17:13.476Z"
   },
   {
    "duration": 8,
    "start_time": "2022-09-17T12:17:15.267Z"
   },
   {
    "duration": 13,
    "start_time": "2022-09-17T12:17:21.080Z"
   },
   {
    "duration": 2,
    "start_time": "2022-09-17T12:25:32.338Z"
   },
   {
    "duration": 73,
    "start_time": "2022-09-17T12:25:32.968Z"
   },
   {
    "duration": 54,
    "start_time": "2022-09-20T09:20:22.076Z"
   },
   {
    "duration": 7,
    "start_time": "2022-09-20T09:27:00.974Z"
   },
   {
    "duration": 380,
    "start_time": "2022-09-20T09:27:05.423Z"
   },
   {
    "duration": 112,
    "start_time": "2022-09-20T09:27:05.805Z"
   },
   {
    "duration": 9,
    "start_time": "2022-09-20T09:27:10.087Z"
   },
   {
    "duration": 28,
    "start_time": "2022-09-20T09:33:04.660Z"
   },
   {
    "duration": 26,
    "start_time": "2022-09-20T09:33:51.757Z"
   },
   {
    "duration": 3,
    "start_time": "2022-09-20T09:34:41.905Z"
   },
   {
    "duration": 13,
    "start_time": "2022-09-20T09:35:09.734Z"
   },
   {
    "duration": 22,
    "start_time": "2022-09-20T09:35:16.364Z"
   },
   {
    "duration": 23,
    "start_time": "2022-09-20T09:35:41.464Z"
   },
   {
    "duration": 38,
    "start_time": "2022-09-20T09:38:49.944Z"
   },
   {
    "duration": 8,
    "start_time": "2022-09-20T09:40:14.352Z"
   },
   {
    "duration": 8,
    "start_time": "2022-09-20T09:40:25.748Z"
   },
   {
    "duration": 8,
    "start_time": "2022-09-20T09:40:27.909Z"
   }
  ],
  "colab": {
   "name": "dpp_template_part1.ipynb",
   "provenance": []
  },
  "kernelspec": {
   "display_name": "Python 3 (ipykernel)",
   "language": "python",
   "name": "python3"
  },
  "language_info": {
   "codemirror_mode": {
    "name": "ipython",
    "version": 3
   },
   "file_extension": ".py",
   "mimetype": "text/x-python",
   "name": "python",
   "nbconvert_exporter": "python",
   "pygments_lexer": "ipython3",
   "version": "3.9.5"
  },
  "toc": {
   "base_numbering": 1,
   "nav_menu": {},
   "number_sections": true,
   "sideBar": true,
   "skip_h1_title": true,
   "title_cell": "Table of Contents",
   "title_sidebar": "Contents",
   "toc_cell": false,
   "toc_position": {},
   "toc_section_display": true,
   "toc_window_display": false
  }
 },
 "nbformat": 4,
 "nbformat_minor": 5
}
